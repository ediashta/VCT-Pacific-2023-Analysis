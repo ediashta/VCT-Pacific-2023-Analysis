{
 "cells": [
  {
   "attachments": {},
   "cell_type": "markdown",
   "metadata": {},
   "source": [
    "# Milestone 1 - Data Science Phase 0\n",
    "**Ediashta Revindra Amirussalam**\n",
    "\n",
    "FTDS 20 - RMT"
   ]
  },
  {
   "attachments": {},
   "cell_type": "markdown",
   "metadata": {},
   "source": [
    "## Problem Statement\n",
    "\n",
    "Sebagai seorang data analyst pada tim Rex Regum Qeon (RRQ), kamu diminta melakukan analisis data pada hasil pertandingan Turnamen VCT Pacific 2023\n",
    "\n",
    "**Dengan menggunakan data yang tersedia, bagaimana strategi yang dapat disarankan untuk menghadapi Turnamen selanjutnya pada tahun 2024 agar dapat meraih tingkat kemenangan dengan minimal 60%**"
   ]
  },
  {
   "attachments": {},
   "cell_type": "markdown",
   "metadata": {},
   "source": [
    "## Data Preparation"
   ]
  },
  {
   "cell_type": "code",
   "execution_count": 30,
   "metadata": {},
   "outputs": [],
   "source": [
    "#import library\n",
    "\n",
    "import numpy as np\n",
    "import pandas as pd\n",
    "from scipy import stats as scipystats\n",
    "from matplotlib import pyplot as plt\n",
    "import seaborn as sns\n",
    "from tabulate import tabulate"
   ]
  },
  {
   "attachments": {},
   "cell_type": "markdown",
   "metadata": {},
   "source": [
    "### Data Loading"
   ]
  },
  {
   "attachments": {},
   "cell_type": "markdown",
   "metadata": {},
   "source": [
    "Dataset pada milestone kali ini diambil dari link berikut\n",
    "[VCT Pacific 2023 - Datasets](https://www.kaggle.com/datasets/kierru/vctpacific-2023).\n",
    "\n",
    "Kita akan menggunakan 6 Dataset yang disediakan yaitu :\n",
    "* stats\n",
    "* agent id\n",
    "* counter_kill\n",
    "* pick_ban\n",
    "* player id\n",
    "* team id"
   ]
  },
  {
   "cell_type": "code",
   "execution_count": 31,
   "metadata": {},
   "outputs": [],
   "source": [
    "#load data\n",
    "stats = pd.read_csv('./Datasets/stats.csv')\n",
    "agent_id = pd.read_csv('./Datasets/agent id (img).csv')\n",
    "counter_kill = pd.read_csv('./Datasets/counter_kill.csv')\n",
    "pick_ban = pd.read_csv('./Datasets/pick_ban.csv')\n",
    "player_id = pd.read_csv('./Datasets/player id (img).csv')\n",
    "team_id = pd.read_csv('./Datasets/team id (img).csv')\n",
    "eco = pd.read_csv('./Datasets/eco.csv')\n"
   ]
  },
  {
   "attachments": {},
   "cell_type": "markdown",
   "metadata": {},
   "source": [
    "### Check info\n",
    "\n",
    "Melakukan check info pada tiap dataset yang digunakan untuk mengetahui tipe data dan null value"
   ]
  },
  {
   "cell_type": "code",
   "execution_count": 32,
   "metadata": {},
   "outputs": [
    {
     "name": "stdout",
     "output_type": "stream",
     "text": [
      "-----------------stats info-----------------\n",
      "\n",
      "<class 'pandas.core.frame.DataFrame'>\n",
      "RangeIndex: 1330 entries, 0 to 1329\n",
      "Data columns (total 27 columns):\n",
      " #   Column        Non-Null Count  Dtype  \n",
      "---  ------        --------------  -----  \n",
      " 0   player_name   1330 non-null   object \n",
      " 1   team          1330 non-null   object \n",
      " 2   opponent      1330 non-null   object \n",
      " 3   rating        1330 non-null   float64\n",
      " 4   acs           1330 non-null   int64  \n",
      " 5   kill          1330 non-null   int64  \n",
      " 6   death         1330 non-null   int64  \n",
      " 7   assist        1330 non-null   int64  \n",
      " 8   kast_percent  1330 non-null   object \n",
      " 9   adr           1330 non-null   int64  \n",
      " 10  hs_percent    1330 non-null   object \n",
      " 11  first_kill    1330 non-null   int64  \n",
      " 12  first_death   1330 non-null   int64  \n",
      " 13  agent         1330 non-null   object \n",
      " 14  map           1330 non-null   object \n",
      " 15  score_team    1330 non-null   int64  \n",
      " 16  score_opp     1330 non-null   int64  \n",
      " 17  score_t       1330 non-null   int64  \n",
      " 18  score_ct      1330 non-null   int64  \n",
      " 19  total_round   1330 non-null   int64  \n",
      " 20  ot            1330 non-null   object \n",
      " 21  win_lose      1330 non-null   object \n",
      " 22  tourney_type  1330 non-null   object \n",
      " 23  game_id       1330 non-null   int64  \n",
      " 24  player_id     1330 non-null   int64  \n",
      " 25  match_id      1330 non-null   int64  \n",
      " 26  role_agent    1330 non-null   object \n",
      "dtypes: float64(1), int64(15), object(11)\n",
      "memory usage: 280.7+ KB\n",
      "None \n",
      "\n",
      "Duplicated data : Empty DataFrame\n",
      "Columns: [player_name, team, opponent, rating, acs, kill, death, assist, kast_percent, adr, hs_percent, first_kill, first_death, agent, map, score_team, score_opp, score_t, score_ct, total_round, ot, win_lose, tourney_type, game_id, player_id, match_id, role_agent]\n",
      "Index: []\n",
      "\n",
      "[0 rows x 27 columns]\n"
     ]
    }
   ],
   "source": [
    "#check info stats\n",
    "print(\"-----------------stats info-----------------\\n\")\n",
    "print(stats.info(), \"\\n\")\n",
    "print(\"Duplicated data :\", stats[stats.duplicated()])\n",
    "\n"
   ]
  },
  {
   "cell_type": "code",
   "execution_count": 33,
   "metadata": {},
   "outputs": [
    {
     "name": "stdout",
     "output_type": "stream",
     "text": [
      "-----------------agent info-----------------\n",
      "\n",
      "<class 'pandas.core.frame.DataFrame'>\n",
      "RangeIndex: 21 entries, 0 to 20\n",
      "Data columns (total 4 columns):\n",
      " #   Column     Non-Null Count  Dtype \n",
      "---  ------     --------------  ----- \n",
      " 0   agent_id   21 non-null     int64 \n",
      " 1   Agent      21 non-null     object\n",
      " 2   Role       21 non-null     object\n",
      " 3   agent_url  21 non-null     object\n",
      "dtypes: int64(1), object(3)\n",
      "memory usage: 800.0+ bytes\n",
      "None \n",
      "\n",
      "Duplicated data : Empty DataFrame\n",
      "Columns: [agent_id, Agent, Role, agent_url]\n",
      "Index: []\n"
     ]
    }
   ],
   "source": [
    "#check agent_id stats\n",
    "print(\"-----------------agent info-----------------\\n\")\n",
    "print(agent_id.info(), \"\\n\")\n",
    "print(\"Duplicated data :\", agent_id[agent_id.duplicated()])\n"
   ]
  },
  {
   "cell_type": "code",
   "execution_count": 34,
   "metadata": {},
   "outputs": [
    {
     "name": "stdout",
     "output_type": "stream",
     "text": [
      "-----------------counter kill info-----------------\n",
      "\n",
      "<class 'pandas.core.frame.DataFrame'>\n",
      "RangeIndex: 1330 entries, 0 to 1329\n",
      "Data columns (total 21 columns):\n",
      " #   Column        Non-Null Count  Dtype \n",
      "---  ------        --------------  ----- \n",
      " 0   player        1330 non-null   object\n",
      " 1   team          1330 non-null   object\n",
      " 2   2k            1330 non-null   int64 \n",
      " 3   3k            1330 non-null   int64 \n",
      " 4   4k            1330 non-null   int64 \n",
      " 5   5k            1330 non-null   int64 \n",
      " 6   1v1           1330 non-null   int64 \n",
      " 7   1v2           1330 non-null   int64 \n",
      " 8   1v3           1330 non-null   int64 \n",
      " 9   1v4           1330 non-null   int64 \n",
      " 10  1v5           1330 non-null   int64 \n",
      " 11  agent         1330 non-null   object\n",
      " 12  map           1330 non-null   object\n",
      " 13  tourney_type  1330 non-null   object\n",
      " 14  game_id       1330 non-null   int64 \n",
      " 15  match_id      1330 non-null   int64 \n",
      " 16  role_agent    1330 non-null   object\n",
      " 17  total_round   1330 non-null   int64 \n",
      " 18  ot            1330 non-null   object\n",
      " 19  win_lose      1330 non-null   object\n",
      " 20  clutches      1330 non-null   int64 \n",
      "dtypes: int64(13), object(8)\n",
      "memory usage: 218.3+ KB\n",
      "None \n",
      "\n",
      "Duplicated data : Empty DataFrame\n",
      "Columns: [player, team, 2k, 3k, 4k, 5k, 1v1, 1v2, 1v3, 1v4, 1v5, agent, map, tourney_type, game_id, match_id, role_agent, total_round, ot, win_lose, clutches]\n",
      "Index: []\n",
      "\n",
      "[0 rows x 21 columns]\n"
     ]
    }
   ],
   "source": [
    "#check counter kill info\n",
    "print(\"-----------------counter kill info-----------------\\n\")\n",
    "print(counter_kill.info(), \"\\n\")\n",
    "print(\"Duplicated data :\", counter_kill[counter_kill.duplicated()])"
   ]
  },
  {
   "cell_type": "code",
   "execution_count": 35,
   "metadata": {},
   "outputs": [
    {
     "name": "stdout",
     "output_type": "stream",
     "text": [
      "-----------------pickban info-----------------\n",
      "\n",
      "<class 'pandas.core.frame.DataFrame'>\n",
      "RangeIndex: 324 entries, 0 to 323\n",
      "Data columns (total 6 columns):\n",
      " #   Column        Non-Null Count  Dtype \n",
      "---  ------        --------------  ----- \n",
      " 0   team          324 non-null    object\n",
      " 1   pb_phase      324 non-null    object\n",
      " 2   map           324 non-null    object\n",
      " 3   tourney_type  324 non-null    object\n",
      " 4   match_id      324 non-null    int64 \n",
      " 5   game_id       324 non-null    int64 \n",
      "dtypes: int64(2), object(4)\n",
      "memory usage: 15.3+ KB\n",
      "None \n",
      "\n",
      "Duplicated data : Empty DataFrame\n",
      "Columns: [team, pb_phase, map, tourney_type, match_id, game_id]\n",
      "Index: []\n"
     ]
    }
   ],
   "source": [
    "\n",
    "#check pick ban info\n",
    "print(\"-----------------pickban info-----------------\\n\")\n",
    "print(pick_ban.info(), \"\\n\")\n",
    "print(\"Duplicated data :\", pick_ban[pick_ban.duplicated()])"
   ]
  },
  {
   "cell_type": "code",
   "execution_count": 36,
   "metadata": {},
   "outputs": [
    {
     "name": "stdout",
     "output_type": "stream",
     "text": [
      "-----------------player info-----------------\n",
      "\n",
      "<class 'pandas.core.frame.DataFrame'>\n",
      "RangeIndex: 62 entries, 0 to 61\n",
      "Data columns (total 5 columns):\n",
      " #   Column      Non-Null Count  Dtype \n",
      "---  ------      --------------  ----- \n",
      " 0   team        62 non-null     object\n",
      " 1   player_id   62 non-null     int64 \n",
      " 2   player      62 non-null     object\n",
      " 3   Region      62 non-null     object\n",
      " 4   player_img  62 non-null     object\n",
      "dtypes: int64(1), object(4)\n",
      "memory usage: 2.5+ KB\n",
      "None \n",
      "\n",
      "Duplicated data : Empty DataFrame\n",
      "Columns: [team, player_id, player, Region, player_img]\n",
      "Index: []\n"
     ]
    }
   ],
   "source": [
    "#check player id info\n",
    "print(\"-----------------player info-----------------\\n\")\n",
    "print(player_id.info(), \"\\n\")\n",
    "print(\"Duplicated data :\", player_id[player_id.duplicated()])\n"
   ]
  },
  {
   "cell_type": "code",
   "execution_count": 37,
   "metadata": {},
   "outputs": [
    {
     "name": "stdout",
     "output_type": "stream",
     "text": [
      "-----------------team info-----------------\n",
      "\n",
      "<class 'pandas.core.frame.DataFrame'>\n",
      "RangeIndex: 10 entries, 0 to 9\n",
      "Data columns (total 10 columns):\n",
      " #   Column     Non-Null Count  Dtype \n",
      "---  ------     --------------  ----- \n",
      " 0   team       10 non-null     object\n",
      " 1   full_team  10 non-null     object\n",
      " 2   region     10 non-null     object\n",
      " 3   w          10 non-null     int64 \n",
      " 4   l          10 non-null     int64 \n",
      " 5   map        10 non-null     object\n",
      " 6   rnd        10 non-null     object\n",
      " 7   rnd_diff   10 non-null     int64 \n",
      " 8   img_url    10 non-null     object\n",
      " 9   team_id    10 non-null     int64 \n",
      "dtypes: int64(4), object(6)\n",
      "memory usage: 928.0+ bytes\n",
      "None \n",
      "\n",
      "Duplicated data : Empty DataFrame\n",
      "Columns: [team, full_team, region, w, l, map, rnd, rnd_diff, img_url, team_id]\n",
      "Index: []\n"
     ]
    }
   ],
   "source": [
    "#check player id info\n",
    "print(\"-----------------team info-----------------\\n\")\n",
    "print(team_id.info(), \"\\n\")\n",
    "print(\"Duplicated data :\", team_id[team_id.duplicated()])"
   ]
  },
  {
   "cell_type": "code",
   "execution_count": 38,
   "metadata": {},
   "outputs": [
    {
     "name": "stdout",
     "output_type": "stream",
     "text": [
      "-----------------eco info-----------------\n",
      "\n",
      "<class 'pandas.core.frame.DataFrame'>\n",
      "RangeIndex: 266 entries, 0 to 265\n",
      "Data columns (total 17 columns):\n",
      " #   Column          Non-Null Count  Dtype  \n",
      "---  ------          --------------  -----  \n",
      " 0   team            266 non-null    object \n",
      " 1   pistol_win      266 non-null    float64\n",
      " 2   eco_round       266 non-null    float64\n",
      " 3   eco_win         266 non-null    float64\n",
      " 4   semi_eco_round  266 non-null    float64\n",
      " 5   semi_eco_win    266 non-null    float64\n",
      " 6   semi_buy_round  266 non-null    float64\n",
      " 7   semi_buy_win    266 non-null    float64\n",
      " 8   buy_round       266 non-null    float64\n",
      " 9   buy_win         266 non-null    float64\n",
      " 10  game_id         266 non-null    float64\n",
      " 11  tourney_type    266 non-null    object \n",
      " 12  map             266 non-null    object \n",
      " 13  match_id        266 non-null    float64\n",
      " 14  total_round     266 non-null    int64  \n",
      " 15  ot              266 non-null    object \n",
      " 16  win_lose        266 non-null    object \n",
      "dtypes: float64(11), int64(1), object(5)\n",
      "memory usage: 35.5+ KB\n",
      "None \n",
      "\n",
      "Duplicated data : Empty DataFrame\n",
      "Columns: [team, pistol_win, eco_round, eco_win, semi_eco_round, semi_eco_win, semi_buy_round, semi_buy_win, buy_round, buy_win, game_id, tourney_type, map, match_id, total_round, ot, win_lose]\n",
      "Index: []\n"
     ]
    }
   ],
   "source": [
    "#check eco info\n",
    "print(\"-----------------eco info-----------------\\n\")\n",
    "print(eco.info(), \"\\n\")\n",
    "print(\"Duplicated data :\", eco[eco.duplicated()])"
   ]
  },
  {
   "attachments": {},
   "cell_type": "markdown",
   "metadata": {},
   "source": [
    "### Data Cleaning\n",
    "Melakukan pembersihan pada data untuk mempermudah dalam pengolahan data, seperti mengganti tipe data, drop kolom yang tidak digunakan, menghapus null value, menambahkan kolom baru"
   ]
  },
  {
   "attachments": {},
   "cell_type": "markdown",
   "metadata": {},
   "source": [
    "Berdasarkan info sebelumnya, kita dapat mengetahui bahwa tidak terdapat null value ataupun invalid value pada data, dan juga tidak terdapat data duplikat sehingga tidak perlu drop duplikat data"
   ]
  },
  {
   "attachments": {},
   "cell_type": "markdown",
   "metadata": {},
   "source": [
    "Pada tabel stats, terdapat match id yang menjadi key yang memiliki Team dan Opponent yang sama, tetapi dengan menggunakan match id akan lebih sulit untuk mencari pertandingan dengan menggunakan nama tim.\n",
    "\n",
    "Selanjutnya, kita bisa menambahkan kolom baru yaitu *Match* yang dapat kita gunakan untuk identifikasi match antar tim"
   ]
  },
  {
   "attachments": {},
   "cell_type": "markdown",
   "metadata": {},
   "source": [
    "Dan juga kita akan menambahkan data Home Away untuk mengetahui Tim mana yang akan berada pada Home dan sebaliknya, ini akan memudahkan kita dalam melakukan pengolahan data"
   ]
  },
  {
   "cell_type": "code",
   "execution_count": 39,
   "metadata": {},
   "outputs": [
    {
     "data": {
      "text/plain": [
       "0       184456\n",
       "1       184456\n",
       "2       184456\n",
       "3       184456\n",
       "4       184456\n",
       "         ...  \n",
       "1325    184522\n",
       "1326    184522\n",
       "1327    184522\n",
       "1328    184522\n",
       "1329    184522\n",
       "Name: match_id, Length: 1330, dtype: int64"
      ]
     },
     "execution_count": 39,
     "metadata": {},
     "output_type": "execute_result"
    }
   ],
   "source": [
    "#check match id\n",
    "\n",
    "match_id = stats[[\"match_id\",\"team\",\"opponent\"]]\n",
    "\n",
    "match_id[\"match_id\"]"
   ]
  },
  {
   "cell_type": "code",
   "execution_count": 40,
   "metadata": {},
   "outputs": [],
   "source": [
    "#for each assign new column\n",
    "match = []\n",
    "home =[]\n",
    "id_now = 0\n",
    "def set_home(team, data):\n",
    "    if team == data:\n",
    "        home_add = True\n",
    "    else:\n",
    "        home_add = False\n",
    "    return home_add\n",
    "        \n",
    "for index, row in match_id.iterrows():\n",
    "    if id_now == row[\"match_id\"]:\n",
    "        home.append(set_home(team, row[\"team\"]))\n",
    "    else:\n",
    "        team = row[\"team\"]\n",
    "        opp = row[\"opponent\"]\n",
    "        home.append(set_home(team, row[\"team\"]))    \n",
    "    match.append(team + \" vs \" + opp + \" - \" + str(row[\"match_id\"]))\n",
    "    id_now = row[\"match_id\"]"
   ]
  },
  {
   "cell_type": "code",
   "execution_count": 41,
   "metadata": {},
   "outputs": [
    {
     "data": {
      "text/html": [
       "<div>\n",
       "<style scoped>\n",
       "    .dataframe tbody tr th:only-of-type {\n",
       "        vertical-align: middle;\n",
       "    }\n",
       "\n",
       "    .dataframe tbody tr th {\n",
       "        vertical-align: top;\n",
       "    }\n",
       "\n",
       "    .dataframe thead th {\n",
       "        text-align: right;\n",
       "    }\n",
       "</style>\n",
       "<table border=\"1\" class=\"dataframe\">\n",
       "  <thead>\n",
       "    <tr style=\"text-align: right;\">\n",
       "      <th></th>\n",
       "      <th>game_id</th>\n",
       "      <th>match</th>\n",
       "      <th>team</th>\n",
       "      <th>home</th>\n",
       "    </tr>\n",
       "  </thead>\n",
       "  <tbody>\n",
       "    <tr>\n",
       "      <th>0</th>\n",
       "      <td>119512</td>\n",
       "      <td>ZETA vs DRX - 184456</td>\n",
       "      <td>ZETA</td>\n",
       "      <td>True</td>\n",
       "    </tr>\n",
       "    <tr>\n",
       "      <th>1</th>\n",
       "      <td>119512</td>\n",
       "      <td>ZETA vs DRX - 184456</td>\n",
       "      <td>ZETA</td>\n",
       "      <td>True</td>\n",
       "    </tr>\n",
       "    <tr>\n",
       "      <th>2</th>\n",
       "      <td>119512</td>\n",
       "      <td>ZETA vs DRX - 184456</td>\n",
       "      <td>ZETA</td>\n",
       "      <td>True</td>\n",
       "    </tr>\n",
       "    <tr>\n",
       "      <th>3</th>\n",
       "      <td>119512</td>\n",
       "      <td>ZETA vs DRX - 184456</td>\n",
       "      <td>ZETA</td>\n",
       "      <td>True</td>\n",
       "    </tr>\n",
       "    <tr>\n",
       "      <th>4</th>\n",
       "      <td>119512</td>\n",
       "      <td>ZETA vs DRX - 184456</td>\n",
       "      <td>ZETA</td>\n",
       "      <td>True</td>\n",
       "    </tr>\n",
       "    <tr>\n",
       "      <th>5</th>\n",
       "      <td>119512</td>\n",
       "      <td>ZETA vs DRX - 184456</td>\n",
       "      <td>DRX</td>\n",
       "      <td>False</td>\n",
       "    </tr>\n",
       "    <tr>\n",
       "      <th>6</th>\n",
       "      <td>119512</td>\n",
       "      <td>ZETA vs DRX - 184456</td>\n",
       "      <td>DRX</td>\n",
       "      <td>False</td>\n",
       "    </tr>\n",
       "    <tr>\n",
       "      <th>7</th>\n",
       "      <td>119512</td>\n",
       "      <td>ZETA vs DRX - 184456</td>\n",
       "      <td>DRX</td>\n",
       "      <td>False</td>\n",
       "    </tr>\n",
       "    <tr>\n",
       "      <th>8</th>\n",
       "      <td>119512</td>\n",
       "      <td>ZETA vs DRX - 184456</td>\n",
       "      <td>DRX</td>\n",
       "      <td>False</td>\n",
       "    </tr>\n",
       "    <tr>\n",
       "      <th>9</th>\n",
       "      <td>119512</td>\n",
       "      <td>ZETA vs DRX - 184456</td>\n",
       "      <td>DRX</td>\n",
       "      <td>False</td>\n",
       "    </tr>\n",
       "    <tr>\n",
       "      <th>10</th>\n",
       "      <td>119513</td>\n",
       "      <td>ZETA vs DRX - 184456</td>\n",
       "      <td>ZETA</td>\n",
       "      <td>True</td>\n",
       "    </tr>\n",
       "    <tr>\n",
       "      <th>11</th>\n",
       "      <td>119513</td>\n",
       "      <td>ZETA vs DRX - 184456</td>\n",
       "      <td>ZETA</td>\n",
       "      <td>True</td>\n",
       "    </tr>\n",
       "    <tr>\n",
       "      <th>12</th>\n",
       "      <td>119513</td>\n",
       "      <td>ZETA vs DRX - 184456</td>\n",
       "      <td>ZETA</td>\n",
       "      <td>True</td>\n",
       "    </tr>\n",
       "    <tr>\n",
       "      <th>13</th>\n",
       "      <td>119513</td>\n",
       "      <td>ZETA vs DRX - 184456</td>\n",
       "      <td>ZETA</td>\n",
       "      <td>True</td>\n",
       "    </tr>\n",
       "    <tr>\n",
       "      <th>14</th>\n",
       "      <td>119513</td>\n",
       "      <td>ZETA vs DRX - 184456</td>\n",
       "      <td>ZETA</td>\n",
       "      <td>True</td>\n",
       "    </tr>\n",
       "    <tr>\n",
       "      <th>15</th>\n",
       "      <td>119513</td>\n",
       "      <td>ZETA vs DRX - 184456</td>\n",
       "      <td>DRX</td>\n",
       "      <td>False</td>\n",
       "    </tr>\n",
       "    <tr>\n",
       "      <th>16</th>\n",
       "      <td>119513</td>\n",
       "      <td>ZETA vs DRX - 184456</td>\n",
       "      <td>DRX</td>\n",
       "      <td>False</td>\n",
       "    </tr>\n",
       "    <tr>\n",
       "      <th>17</th>\n",
       "      <td>119513</td>\n",
       "      <td>ZETA vs DRX - 184456</td>\n",
       "      <td>DRX</td>\n",
       "      <td>False</td>\n",
       "    </tr>\n",
       "    <tr>\n",
       "      <th>18</th>\n",
       "      <td>119513</td>\n",
       "      <td>ZETA vs DRX - 184456</td>\n",
       "      <td>DRX</td>\n",
       "      <td>False</td>\n",
       "    </tr>\n",
       "    <tr>\n",
       "      <th>19</th>\n",
       "      <td>119513</td>\n",
       "      <td>ZETA vs DRX - 184456</td>\n",
       "      <td>DRX</td>\n",
       "      <td>False</td>\n",
       "    </tr>\n",
       "  </tbody>\n",
       "</table>\n",
       "</div>"
      ],
      "text/plain": [
       "    game_id                 match  team   home\n",
       "0    119512  ZETA vs DRX - 184456  ZETA   True\n",
       "1    119512  ZETA vs DRX - 184456  ZETA   True\n",
       "2    119512  ZETA vs DRX - 184456  ZETA   True\n",
       "3    119512  ZETA vs DRX - 184456  ZETA   True\n",
       "4    119512  ZETA vs DRX - 184456  ZETA   True\n",
       "5    119512  ZETA vs DRX - 184456   DRX  False\n",
       "6    119512  ZETA vs DRX - 184456   DRX  False\n",
       "7    119512  ZETA vs DRX - 184456   DRX  False\n",
       "8    119512  ZETA vs DRX - 184456   DRX  False\n",
       "9    119512  ZETA vs DRX - 184456   DRX  False\n",
       "10   119513  ZETA vs DRX - 184456  ZETA   True\n",
       "11   119513  ZETA vs DRX - 184456  ZETA   True\n",
       "12   119513  ZETA vs DRX - 184456  ZETA   True\n",
       "13   119513  ZETA vs DRX - 184456  ZETA   True\n",
       "14   119513  ZETA vs DRX - 184456  ZETA   True\n",
       "15   119513  ZETA vs DRX - 184456   DRX  False\n",
       "16   119513  ZETA vs DRX - 184456   DRX  False\n",
       "17   119513  ZETA vs DRX - 184456   DRX  False\n",
       "18   119513  ZETA vs DRX - 184456   DRX  False\n",
       "19   119513  ZETA vs DRX - 184456   DRX  False"
      ]
     },
     "execution_count": 41,
     "metadata": {},
     "output_type": "execute_result"
    }
   ],
   "source": [
    "#insert into dataframe\n",
    "stats['match'] = match\n",
    "stats['home'] = home\n",
    "\n",
    "stats[[\"game_id\", \"match\", \"team\", \"home\"]].head(20)"
   ]
  },
  {
   "attachments": {},
   "cell_type": "markdown",
   "metadata": {},
   "source": [
    "Pada table pick_ban, kita bisa melihat bahwa tidak ada kolom game_id untuk mendefinisikan bahwa map tersebut dimainkan pada game ke-berapa, oleh karena itu kita dapat menambahkan kolom baru yaitu game_id sesuai dengan data pada stats dengan ketentuan sebagai berikut:\n",
    "* Apabila phase adalah pick, maka kita masukan game_id\n",
    "* Apabila phase adalah ban, kita masukan null karena map tersebut tidak dimainkan"
   ]
  },
  {
   "cell_type": "code",
   "execution_count": 42,
   "metadata": {},
   "outputs": [
    {
     "name": "stdout",
     "output_type": "stream",
     "text": [
      "           map  game_id  match_id\n",
      "0       Ascent   119512    184456\n",
      "10       Pearl   119513    184456\n",
      "20       Pearl   119515    184457\n",
      "30       Haven   119516    184457\n",
      "40       Lotus   119517    184457\n",
      "...        ...      ...       ...\n",
      "1280  Fracture   119706    184522\n",
      "1290    Ascent   119708    184522\n",
      "1300      Bind   131784    184522\n",
      "1310     Lotus   119712    184522\n",
      "1320     Pearl   119714    184522\n",
      "\n",
      "[133 rows x 3 columns]\n",
      "     team pb_phase       map  match_id\n",
      "0     DRX      ban     Lotus    184456\n",
      "1    ZETA      ban  Fracture    184456\n",
      "2     DRX     pick    Ascent    184456\n",
      "3    ZETA     pick     Pearl    184456\n",
      "4     DRX      ban     Split    184456\n",
      "..    ...      ...       ...       ...\n",
      "319   PRX      ban     Split    184522\n",
      "320   PRX     pick  Fracture    184522\n",
      "321   DRX     pick    Ascent    184522\n",
      "322   PRX     pick     Lotus    184522\n",
      "323   DRX     pick     Pearl    184522\n",
      "\n",
      "[324 rows x 4 columns]\n"
     ]
    }
   ],
   "source": [
    "#check game_id and ban_pick\n",
    "game_id = stats[[\"map\",\"game_id\", \"match_id\"]].drop_duplicates()\n",
    "ban_pick = pick_ban[[\"team\",\"pb_phase\", \"map\", \"match_id\"]]\n",
    "\n",
    "print(game_id)\n",
    "print(ban_pick)"
   ]
  },
  {
   "cell_type": "code",
   "execution_count": 43,
   "metadata": {},
   "outputs": [],
   "source": [
    "#for each assign new column game_id\n",
    "new_game_id = []\n",
    "i = 0\n",
    "for index, row in ban_pick.iterrows():\n",
    "    if row[\"pb_phase\"] == \"pick\":\n",
    "        for index, row2 in game_id.iterrows():\n",
    "            if row[\"match_id\"] == row2[\"match_id\"] and row[\"map\"] == row2[\"map\"]:\n",
    "                new_game_id.append(row2[\"game_id\"])\n",
    "            else:\n",
    "                pass\n",
    "    else:\n",
    "        new_game_id.append(\"0\")"
   ]
  },
  {
   "cell_type": "code",
   "execution_count": 44,
   "metadata": {},
   "outputs": [],
   "source": [
    "#create column\n",
    "pick_ban[\"game_id\"] = new_game_id"
   ]
  },
  {
   "cell_type": "code",
   "execution_count": 45,
   "metadata": {},
   "outputs": [
    {
     "data": {
      "text/html": [
       "<div>\n",
       "<style scoped>\n",
       "    .dataframe tbody tr th:only-of-type {\n",
       "        vertical-align: middle;\n",
       "    }\n",
       "\n",
       "    .dataframe tbody tr th {\n",
       "        vertical-align: top;\n",
       "    }\n",
       "\n",
       "    .dataframe thead th {\n",
       "        text-align: right;\n",
       "    }\n",
       "</style>\n",
       "<table border=\"1\" class=\"dataframe\">\n",
       "  <thead>\n",
       "    <tr style=\"text-align: right;\">\n",
       "      <th></th>\n",
       "      <th>team</th>\n",
       "      <th>pb_phase</th>\n",
       "      <th>map</th>\n",
       "      <th>tourney_type</th>\n",
       "      <th>match_id</th>\n",
       "      <th>game_id</th>\n",
       "    </tr>\n",
       "  </thead>\n",
       "  <tbody>\n",
       "    <tr>\n",
       "      <th>0</th>\n",
       "      <td>DRX</td>\n",
       "      <td>ban</td>\n",
       "      <td>Lotus</td>\n",
       "      <td>League Play: Week 1</td>\n",
       "      <td>184456</td>\n",
       "      <td>0</td>\n",
       "    </tr>\n",
       "    <tr>\n",
       "      <th>1</th>\n",
       "      <td>ZETA</td>\n",
       "      <td>ban</td>\n",
       "      <td>Fracture</td>\n",
       "      <td>League Play: Week 1</td>\n",
       "      <td>184456</td>\n",
       "      <td>0</td>\n",
       "    </tr>\n",
       "    <tr>\n",
       "      <th>2</th>\n",
       "      <td>DRX</td>\n",
       "      <td>pick</td>\n",
       "      <td>Ascent</td>\n",
       "      <td>League Play: Week 1</td>\n",
       "      <td>184456</td>\n",
       "      <td>119512</td>\n",
       "    </tr>\n",
       "    <tr>\n",
       "      <th>3</th>\n",
       "      <td>ZETA</td>\n",
       "      <td>pick</td>\n",
       "      <td>Pearl</td>\n",
       "      <td>League Play: Week 1</td>\n",
       "      <td>184456</td>\n",
       "      <td>119513</td>\n",
       "    </tr>\n",
       "    <tr>\n",
       "      <th>4</th>\n",
       "      <td>DRX</td>\n",
       "      <td>ban</td>\n",
       "      <td>Split</td>\n",
       "      <td>League Play: Week 1</td>\n",
       "      <td>184456</td>\n",
       "      <td>0</td>\n",
       "    </tr>\n",
       "    <tr>\n",
       "      <th>...</th>\n",
       "      <td>...</td>\n",
       "      <td>...</td>\n",
       "      <td>...</td>\n",
       "      <td>...</td>\n",
       "      <td>...</td>\n",
       "      <td>...</td>\n",
       "    </tr>\n",
       "    <tr>\n",
       "      <th>319</th>\n",
       "      <td>PRX</td>\n",
       "      <td>ban</td>\n",
       "      <td>Split</td>\n",
       "      <td>Playoffs: Grand Final</td>\n",
       "      <td>184522</td>\n",
       "      <td>0</td>\n",
       "    </tr>\n",
       "    <tr>\n",
       "      <th>320</th>\n",
       "      <td>PRX</td>\n",
       "      <td>pick</td>\n",
       "      <td>Fracture</td>\n",
       "      <td>Playoffs: Grand Final</td>\n",
       "      <td>184522</td>\n",
       "      <td>119706</td>\n",
       "    </tr>\n",
       "    <tr>\n",
       "      <th>321</th>\n",
       "      <td>DRX</td>\n",
       "      <td>pick</td>\n",
       "      <td>Ascent</td>\n",
       "      <td>Playoffs: Grand Final</td>\n",
       "      <td>184522</td>\n",
       "      <td>119708</td>\n",
       "    </tr>\n",
       "    <tr>\n",
       "      <th>322</th>\n",
       "      <td>PRX</td>\n",
       "      <td>pick</td>\n",
       "      <td>Lotus</td>\n",
       "      <td>Playoffs: Grand Final</td>\n",
       "      <td>184522</td>\n",
       "      <td>119712</td>\n",
       "    </tr>\n",
       "    <tr>\n",
       "      <th>323</th>\n",
       "      <td>DRX</td>\n",
       "      <td>pick</td>\n",
       "      <td>Pearl</td>\n",
       "      <td>Playoffs: Grand Final</td>\n",
       "      <td>184522</td>\n",
       "      <td>119714</td>\n",
       "    </tr>\n",
       "  </tbody>\n",
       "</table>\n",
       "<p>324 rows × 6 columns</p>\n",
       "</div>"
      ],
      "text/plain": [
       "     team pb_phase       map           tourney_type  match_id game_id\n",
       "0     DRX      ban     Lotus    League Play: Week 1    184456       0\n",
       "1    ZETA      ban  Fracture    League Play: Week 1    184456       0\n",
       "2     DRX     pick    Ascent    League Play: Week 1    184456  119512\n",
       "3    ZETA     pick     Pearl    League Play: Week 1    184456  119513\n",
       "4     DRX      ban     Split    League Play: Week 1    184456       0\n",
       "..    ...      ...       ...                    ...       ...     ...\n",
       "319   PRX      ban     Split  Playoffs: Grand Final    184522       0\n",
       "320   PRX     pick  Fracture  Playoffs: Grand Final    184522  119706\n",
       "321   DRX     pick    Ascent  Playoffs: Grand Final    184522  119708\n",
       "322   PRX     pick     Lotus  Playoffs: Grand Final    184522  119712\n",
       "323   DRX     pick     Pearl  Playoffs: Grand Final    184522  119714\n",
       "\n",
       "[324 rows x 6 columns]"
      ]
     },
     "execution_count": 45,
     "metadata": {},
     "output_type": "execute_result"
    }
   ],
   "source": [
    "pick_ban"
   ]
  },
  {
   "cell_type": "code",
   "execution_count": 46,
   "metadata": {},
   "outputs": [],
   "source": [
    "#add new column clutches\n",
    "counter_kill[\"clutches\"] = counter_kill[\"1v1\"] + counter_kill[\"1v2\"] + counter_kill[\"1v3\"] + counter_kill[\"1v3\"] + counter_kill[\"1v4\"] + counter_kill[\"1v5\"]"
   ]
  },
  {
   "cell_type": "code",
   "execution_count": 47,
   "metadata": {},
   "outputs": [],
   "source": [
    "#save to csv\n",
    "stats.to_csv('stats_new.csv',index=False)"
   ]
  },
  {
   "cell_type": "code",
   "execution_count": 48,
   "metadata": {},
   "outputs": [],
   "source": [
    "#save to csv\n",
    "pick_ban.to_csv('./Datasets/pick_ban.csv',index=False)"
   ]
  },
  {
   "cell_type": "code",
   "execution_count": 49,
   "metadata": {},
   "outputs": [],
   "source": [
    "#save to csv\n",
    "counter_kill.to_csv('./Datasets/counter_kill.csv',index = False)"
   ]
  },
  {
   "attachments": {},
   "cell_type": "markdown",
   "metadata": {},
   "source": [
    "## Analisis dan Perhitungan"
   ]
  },
  {
   "attachments": {},
   "cell_type": "markdown",
   "metadata": {},
   "source": [
    "**Visualisasi**\n",
    "1. Tim mana yang memiliki **Persentase Kemenangan** paling besar\n",
    "2. Tim mana yang memiliki **Round Difference** paling besar\n",
    "3. Siapa player yang memiliki rata-rata **Kill terbanyak**\n",
    "4. 10 **Agent** apa yang paling sering digunakan\n",
    "\n",
    "**Statistik**\n",
    "\n",
    "5. Apakah ada outliers pada data **Kill** dan **ACS**? Apabila ada, temukan outliers pada column **Kill** dan **ACS**\n",
    "6. Diperkirakan pada turnamen sebelumnya, tiap pemain memiliki rata-rata kill sebanyak 15. Lakukan pengujian hipotesis ini!"
   ]
  },
  {
   "attachments": {},
   "cell_type": "markdown",
   "metadata": {},
   "source": [
    "### Visualisasi Data"
   ]
  },
  {
   "attachments": {},
   "cell_type": "markdown",
   "metadata": {},
   "source": [
    "Berikut adalah visualisasi data terkait pertandingan pada turnament VCT Pacific 2023.\n",
    "\n",
    "Pada bagian kiri terdapat visualisasi yang berkaitan dengan penjabaran, sedangkan pada bagian kiri terdapat visualisasi terkait pertandingan antara tiap tim yang dapat dilakukan filter sesuai dengan pertandingan sebelumnya\n",
    "\n",
    "Untuk mengakses dashboard tersebut dapat klik link dibawah:\n",
    "\n",
    "[VCT Pacific Dashboard](https://public.tableau.com/app/profile/ediashta.revindra/viz/VCTPacific/MatchDashboard)"
   ]
  },
  {
   "attachments": {},
   "cell_type": "markdown",
   "metadata": {},
   "source": [
    "![Imgur](https://imgur.com/Zv6u7mL.png)"
   ]
  },
  {
   "attachments": {},
   "cell_type": "markdown",
   "metadata": {},
   "source": [
    "### Statistik Deskriptif"
   ]
  },
  {
   "cell_type": "code",
   "execution_count": 50,
   "metadata": {},
   "outputs": [],
   "source": [
    "#assign outliers\n",
    "\n",
    "outliers = stats[[ \"acs\",\"kill\"]]"
   ]
  },
  {
   "cell_type": "code",
   "execution_count": 51,
   "metadata": {},
   "outputs": [
    {
     "name": "stdout",
     "output_type": "stream",
     "text": [
      "Mean dari ACS : 199.09473684210528\n",
      "Mean dari Kill : 14.523308270676692\n"
     ]
    }
   ],
   "source": [
    "#check mean\n",
    "\n",
    "print(\"Mean dari ACS :\", outliers[\"acs\"].mean())\n",
    "print(\"Mean dari Kill :\",outliers[\"kill\"].mean())"
   ]
  },
  {
   "cell_type": "code",
   "execution_count": 52,
   "metadata": {},
   "outputs": [
    {
     "data": {
      "text/plain": [
       "<Axes: title={'center': 'Check Outliers'}>"
      ]
     },
     "execution_count": 52,
     "metadata": {},
     "output_type": "execute_result"
    },
    {
     "data": {
      "image/png": "[encoded data removed]",
      "text/plain": [
       "<Figure size 500x500 with 1 Axes>"
      ]
     },
     "metadata": {},
     "output_type": "display_data"
    }
   ],
   "source": [
    "#display box plot\n",
    "\n",
    "outliers[\"acs\"].plot(kind='box', title='Check Outliers', figsize=(5,5))"
   ]
  },
  {
   "cell_type": "code",
   "execution_count": 53,
   "metadata": {},
   "outputs": [
    {
     "data": {
      "text/plain": [
       "<Axes: title={'center': 'Check Outliers'}>"
      ]
     },
     "execution_count": 53,
     "metadata": {},
     "output_type": "execute_result"
    },
    {
     "data": {
      "image/png": "[encoded data removed]",
      "text/plain": [
       "<Figure size 500x500 with 1 Axes>"
      ]
     },
     "metadata": {},
     "output_type": "display_data"
    }
   ],
   "source": [
    "#display box plot\n",
    "\n",
    "outliers[\"kill\"].plot(kind='box', title='Check Outliers', figsize=(5,5))"
   ]
  },
  {
   "cell_type": "code",
   "execution_count": 54,
   "metadata": {},
   "outputs": [],
   "source": [
    "#define find outliers\n",
    "\n",
    "def find_outliers_iqr(data):\n",
    "    Q1 = data.quantile(0.25)\n",
    "    Q3 = data.quantile(0.75)    \n",
    "    iqr = Q3 - Q1\n",
    "    lower_bound = Q1 - 1.5 * iqr\n",
    "    upper_bound = Q3 + 1.5 * iqr\n",
    "    outliers = np.where((data < lower_bound) | (data > upper_bound))[0]\n",
    "    outlier_values = pd.DataFrame(data.iloc[outliers])\n",
    "    return outlier_values, lower_bound, upper_bound"
   ]
  },
  {
   "cell_type": "code",
   "execution_count": 55,
   "metadata": {},
   "outputs": [
    {
     "name": "stdout",
     "output_type": "stream",
     "text": [
      "Mean :  199.1\n",
      "Outliers Count :  12\n",
      "Upper Boundary :  341.0\n",
      "Lower Boundary :  53.0\n",
      "\n",
      "List Outliers :        acs\n",
      "141   342\n",
      "215   361\n",
      "235   360\n",
      "250   379\n",
      "275   422\n",
      "310   390\n",
      "415   352\n",
      "430   386\n",
      "515   377\n",
      "706   346\n",
      "885   345\n",
      "1090  423\n"
     ]
    }
   ],
   "source": [
    "#find outliers ACS\n",
    "outliers,lower, upper = find_outliers_iqr(stats[\"acs\"])\n",
    "print(\"Mean : \", round(stats[\"acs\"].mean(),1))\n",
    "print(\"Outliers Count : \", outliers.acs.count())\n",
    "print(\"Upper Boundary : \", upper )\n",
    "print(\"Lower Boundary : \", lower )\n",
    "\n",
    "print(\"\\nList Outliers : \", outliers)"
   ]
  },
  {
   "attachments": {},
   "cell_type": "markdown",
   "metadata": {},
   "source": [
    "Terdapat 12 outlers pada data ACS, dengan boundary 341 dan 53, semua outliers melebihi batas atas dan tidak ada yang kurang dari batas bawah\n",
    "\n",
    "Tingginya nilai ACS ini bisa dipengaruhi banyak hal, mulai dari jumlah round yang sedikit sehingga ACS lebih besar, atau pemain yang sangat mendominasi permainan sehingga mudah mendapatkan penilaian ACS"
   ]
  },
  {
   "cell_type": "code",
   "execution_count": 56,
   "metadata": {},
   "outputs": [
    {
     "name": "stdout",
     "output_type": "stream",
     "text": [
      "Mean :  14.5\n",
      "Outliers Count :  10\n",
      "Upper Boundary :  28.5\n",
      "Lower Boundary :  0.5\n",
      "\n",
      "List Outliers :        kill\n",
      "66      29\n",
      "235     30\n",
      "240     39\n",
      "245     31\n",
      "310     29\n",
      "570     31\n",
      "1040    29\n",
      "1290    30\n",
      "1291    29\n",
      "1295    36\n"
     ]
    }
   ],
   "source": [
    "#find outliers Kill\n",
    "outliers,lower, upper = find_outliers_iqr(stats[\"kill\"])\n",
    "print(\"Mean : \", round(stats[\"kill\"].mean(),1))\n",
    "print(\"Outliers Count : \", outliers.kill.count())\n",
    "print(\"Upper Boundary : \", upper )\n",
    "print(\"Lower Boundary : \", lower )\n",
    "\n",
    "print(\"\\nList Outliers : \", outliers)"
   ]
  },
  {
   "attachments": {},
   "cell_type": "markdown",
   "metadata": {},
   "source": [
    "Untuk data Kill, terdapat 10 data outliers dengan boundary 28 dan 0.5, semua outliers melebihi batas atas dan tidak ada yang kurang dari batas bawah \n",
    "\n",
    "Outliers pada kali ini hanya terdapat pada batas atas karena hampir tidak memungkinkan seorang pemain tidak mendapat kill pada sebuah match jika melihat batas bawah yang hanya 0.5\n",
    "Untuk outliers yang melebihi batas atas terdapat banyak faktor juga yang mempengaruhi seperti match yang berlangsung lama dengan jumlah round banyak, ataupun pemain yang juga mendominasi sehingga mudah mendapatkan Kill"
   ]
  },
  {
   "attachments": {},
   "cell_type": "markdown",
   "metadata": {},
   "source": [
    "### Statistik Inferential"
   ]
  },
  {
   "cell_type": "code",
   "execution_count": 57,
   "metadata": {},
   "outputs": [
    {
     "name": "stdout",
     "output_type": "stream",
     "text": [
      "Rata-rata pemain mendapatkan 15.0 Kill pada tiap pertandingan\n"
     ]
    }
   ],
   "source": [
    "#check average Kill player per-game\n",
    "\n",
    "print(\"Rata-rata pemain mendapatkan\", round(stats[\"kill\"].mean(),0), \"Kill pada tiap pertandingan\")"
   ]
  },
  {
   "attachments": {},
   "cell_type": "markdown",
   "metadata": {},
   "source": [
    "Kita mengetahui bahwa pada turnamen kali ini tiap pemain mendapatkan rata-rata 15 kill, kita dapat asumsikan bahwa pada turnamen sebelumnya tiap pemain juga memiliki rata-rata kill yang sama yaitu 15, sehingga kita bisa menuliskan *null hypothesis* sebagai berikut\n",
    "\n",
    "* $h0$ = 15 Kill\n",
    "\n",
    "* $h1$ != 15 Kill\n"
   ]
  },
  {
   "attachments": {},
   "cell_type": "markdown",
   "metadata": {},
   "source": [
    "Selanjutnya kita dapat melakukan one sample T-Test untuk menguji hipotesis ini, kita akan menggunakan nilai statisticla significance sebanyak 5%"
   ]
  },
  {
   "cell_type": "code",
   "execution_count": 58,
   "metadata": {},
   "outputs": [
    {
     "name": "stdout",
     "output_type": "stream",
     "text": [
      "P-value: 0.000261630429971718\n",
      "T-statistic : -3.4770784999998434\n",
      "Tolak hipotesis nol\n"
     ]
    }
   ],
   "source": [
    "#one sample t-test\n",
    "t_stat,p_val = scipystats.ttest_1samp(stats[\"kill\"], 15)\n",
    "print('P-value:',p_val/2) #The p-value divided by 2 since the output is two-sided p-value\n",
    "print('T-statistic :', t_stat)\n",
    "\n",
    "alpha = 0.005\n",
    "if p_val < alpha:\n",
    "    print(\"Tolak hipotesis nol\")\n",
    "else:\n",
    "    print(\"Gagal tolak hipotesis nol\")"
   ]
  },
  {
   "attachments": {},
   "cell_type": "markdown",
   "metadata": {},
   "source": [
    "Didapatkan hasil P-Value kurang dari 0.5, sehingga kita mendapatkan kesimpulan bahwa $h0$ ditolak, atau bisa kita katakan bahwa kita yakin 95% bahwa rata-rata kill tiap pemain pada turnamen sebelumnya !=15, tetapi hal ini perlu dilakukan observasi lebih jauh lagi menggunakan dataset yang sesuai agar dapat mengambil kesimpulan akhir"
   ]
  },
  {
   "attachments": {},
   "cell_type": "markdown",
   "metadata": {},
   "source": [
    "![Imgur](https://imgur.com/1zUSPbm.png)"
   ]
  },
  {
   "attachments": {},
   "cell_type": "markdown",
   "metadata": {},
   "source": [
    "## Kesimpulan"
   ]
  },
  {
   "attachments": {},
   "cell_type": "markdown",
   "metadata": {},
   "source": [
    "Pada turnamen VCT Pacific 2023 terdapat beberapa insight yang dapat diambil untuk meningkatkan kualitas permainan dari Tim RRQ:\n",
    "- Killjoy adalah agent yang paling banyak digunakan, dan juga memiliki win rate paling tinggi. Tim RRQ dapat menggunakan agent ini untuk memaksimalkan potensi kemenangan pada map-map tertentu.\n",
    "- Pada statistik Top Player Kill, mayoritas didominasi oleh tim yang berada pada posisi 3 besar, hal ini secara tidak langsung menggambarkan bahwa aim power pada tim dapat membantu meraih kemenangan. tetapi pada data ini perlu diobservasi lagi terkait korelasinya dengan tingkat kemenangan\n",
    "- Pada suatu pertandingan, first kill sebuah tim dapat membantu meningkatkan peluang untuk menang, dapat diambil contoh dari permainan DRX vs PRX pada game id 119706, Dari 19 ronder permainan tim DRX berhasil memenangkan pertandingan dengan mendapatkan 12  first kill.\n",
    "  \n",
    "Dari insight tersebut terdapat beberapa saran yang dapat diberikan untuk Tim RRQ:\n",
    "- Tim RRQ dapat meningkatkan pool dari agent yang digunakan saat pertandingan agar dapat memaksimalkan potensi agent yang sedang naik daun atau populer\n",
    "- Tim RRQ dapat melatih kekuatan aim power agar dapat mendukung tim meraih objektif tim untuk menang\n",
    "- Tim RRQ dapat menerapkan tipe permainan adaptif dan disiplin agar tidak terjadi kehilangan pemain satu per satu dalam tiap rondenya"
   ]
  },
  {
   "cell_type": "code",
   "execution_count": 59,
   "metadata": {},
   "outputs": [
    {
     "data": {
      "text/plain": [
       "<matplotlib.collections.PathCollection at 0x19944200df0>"
      ]
     },
     "execution_count": 59,
     "metadata": {},
     "output_type": "execute_result"
    },
    {
     "data": {
      "image/png": "[encoded data removed]",
      "text/plain": [
       "<Figure size 640x480 with 1 Axes>"
      ]
     },
     "metadata": {},
     "output_type": "display_data"
    }
   ],
   "source": [
    "plt.scatter(x=\"WinLose\", y=\"Acs\", data=stats)"
   ]
  },
  {
   "cell_type": "code",
   "execution_count": 67,
   "metadata": {},
   "outputs": [
    {
     "name": "stderr",
     "output_type": "stream",
     "text": [
      "C:\\Users\\defal\\AppData\\Local\\Temp\\ipykernel_11532\\2284949986.py:6: UserWarning: \n",
      "\n",
      "`distplot` is a deprecated function and will be removed in seaborn v0.14.0.\n",
      "\n",
      "Please adapt your code to use either `displot` (a figure-level function with\n",
      "similar flexibility) or `histplot` (an axes-level function for histograms).\n",
      "\n",
      "For a guide to updating your code to use the new functions, please see\n",
      "https://gist.github.com/mwaskom/de44147ed2974457ad6372750bbe5751\n",
      "\n",
      "  sns.distplot(kill_pop, label='Kill (Population)', color='blue')\n"
     ]
    },
    {
     "data": {
      "text/plain": [
       "<matplotlib.legend.Legend at 0x1994a1c28c0>"
      ]
     },
     "execution_count": 67,
     "metadata": {},
     "output_type": "execute_result"
    },
    {
     "data": {
      "image/png": "[encoded data removed]",
      "text/plain": [
       "<Figure size 1000x600 with 1 Axes>"
      ]
     },
     "metadata": {},
     "output_type": "display_data"
    }
   ],
   "source": [
    "kill_pop = np.random.normal(stats[\"kill\"].mean(), stats[\"kill\"].std(), 10000)\n",
    "\n",
    "ci = scipystats.norm.interval(0.95, stats[\"kill\"].mean(), stats[\"kill\"].std())\n",
    "\n",
    "plt.figure(figsize=(10,6))\n",
    "sns.distplot(kill_pop, label='Kill (Population)', color='blue')\n",
    "plt.axvline(stats[\"kill\"].mean(), color='red', linewidth=2, label='Kill (Mean)')\n",
    "plt.axvline(ci[0], color='green', linestyle='dashed', linewidth=2, label='confidence threshold of 95%')\n",
    "plt.axvline(ci[1], color='green', linestyle='dashed', linewidth=2)\n",
    "plt.axvline(kill_pop.mean() + t_stat*kill_pop.std(), color='black', linestyle='dashed', linewidth=2, label = 'Alternative Hypothesis')\n",
    "plt.axvline(kill_pop.mean() - t_stat*kill_pop.std(), color='black', linestyle='dashed', linewidth=2)\n",
    "plt.legend()"
   ]
  }
 ],
 "metadata": {
  "kernelspec": {
   "display_name": "Python 3",
   "language": "python",
   "name": "python3"
  },
  "language_info": {
   "codemirror_mode": {
    "name": "ipython",
    "version": 3
   },
   "file_extension": ".py",
   "mimetype": "text/x-python",
   "name": "python",
   "nbconvert_exporter": "python",
   "pygments_lexer": "ipython3",
   "version": "3.10.10"
  },
  "orig_nbformat": 4
 },
 "nbformat": 4,
 "nbformat_minor": 2
}
